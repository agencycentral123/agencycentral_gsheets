{
 "cells": [
  {
   "cell_type": "code",
   "execution_count": null,
   "id": "45234aa0",
   "metadata": {},
   "outputs": [],
   "source": [
    "from email.mime.text import MIMEText\n",
    "from email.mime.application import MIMEApplication\n",
    "from email.mime.multipart import MIMEMultipart\n",
    "import random\n",
    "from datetime import datetime\n",
    "import smtplib, ssl\n",
    "import sys\n",
    "\n",
    "\n",
    "now = datetime.now()\n",
    "num = random.randint(1, 101)\n",
    "with open('/tmp/rand.txt', 'a') as f:\n",
    "    f.write('{} - Your random number is {}\\n'.format(now, num)) \n",
    "def emailnew():\n",
    "    sender_email = \"ayanhussain821@gmail.com\" \n",
    "    receiver_email = \"zeeshan.maniar1@gmail.com\"\n",
    "    password = 'kedxqxdodxnckcsl'\n",
    "    message = MIMEMultipart(\"alternative\")\n",
    "    message[\"Subject\"] = \"Testting\"\n",
    "    message[\"From\"] = sender_email\n",
    "    message[\"To\"] = receiver_email\n",
    "\n",
    "    text = \"\"\"\\\n",
    "    Testing\"\"\"\n",
    "#     html = df.to_html(index=False)\n",
    "    part1 = MIMEText(text, \"plain\")\n",
    "#     part2 = MIMEText(html, \"html\")\n",
    "\n",
    "    message.attach(part1)\n",
    "#     message.attach(part2)\n",
    "\n",
    "\n",
    "    context = ssl.create_default_context()\n",
    "    with smtplib.SMTP_SSL(\"smtp.gmail.com\", 465, context=context) as server:\n",
    "        server.login(sender_email, password)\n",
    "        server.sendmail(\n",
    "            sender_email, receiver_email, message.as_string()\n",
    "        )\n",
    "\n",
    "emailnew()"
   ]
  }
 ],
 "metadata": {
  "kernelspec": {
   "display_name": "Python 3 (ipykernel)",
   "language": "python",
   "name": "python3"
  },
  "language_info": {
   "codemirror_mode": {
    "name": "ipython",
    "version": 3
   },
   "file_extension": ".py",
   "mimetype": "text/x-python",
   "name": "python",
   "nbconvert_exporter": "python",
   "pygments_lexer": "ipython3",
   "version": "3.11.0"
  }
 },
 "nbformat": 4,
 "nbformat_minor": 5
}
